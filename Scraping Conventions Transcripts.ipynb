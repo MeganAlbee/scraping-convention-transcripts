{
 "cells": [
  {
   "cell_type": "markdown",
   "metadata": {},
   "source": [
    "# Scraping Political Convention Transcripts\n",
    "In this repo, we'll be utilizing transcripts from Rev to scrape the Democratic and Republican national conventions."
   ]
  },
  {
   "cell_type": "code",
   "execution_count": 1,
   "metadata": {},
   "outputs": [],
   "source": [
    "import requests               # To get the pages\n",
    "from bs4 import BeautifulSoup # and to process them\n",
    "\n",
    "from time import sleep      # Allowing us to pause between pulls\n",
    "from random import random   # And allowing that pause to be random\n",
    "\n",
    "import textwrap             # Useful for our wrapped output\n",
    "from bs4.element import Comment"
   ]
  },
  {
   "cell_type": "markdown",
   "metadata": {},
   "source": [
    "This code is a Python function that determines whether a given HTML element is visible. It checks if the element's parent name is in a list of tags that are not visible (style, script, head, title, meta, [document]), and checks if the element is a comment. If either of these conditions is true, the function returns false. Otherwise, the function returns true."
   ]
  },
  {
   "cell_type": "code",
   "execution_count": null,
   "metadata": {},
   "outputs": [],
   "source": [
    "def tag_visible(element):\n",
    "    if element.parent.name in ['style', 'script', 'head', 'title', 'meta', '[document]']:\n",
    "        return False\n",
    "    if isinstance(element, Comment):\n",
    "        return False\n",
    "    return True"
   ]
  },
  {
   "cell_type": "markdown",
   "metadata": {},
   "source": [
    "This code is creating a filename from a given url. It replaces the 'https' and 'http' with nothing, replaces '://', '.', and '/' with underscores, removes the last underscore, and adds '.txt' to the end of the name. It then returns the newly generated file name."
   ]
  },
  {
   "cell_type": "code",
   "execution_count": 132,
   "metadata": {},
   "outputs": [],
   "source": [
    "def generate_filename_from_url(url) :\n",
    "    if not url :\n",
    "        return None\n",
    "    # drop the http or https\n",
    "    name = url.replace('https','').replace('http','')\n",
    "    \n",
    "    #replace useless characters with UNDERSCORE\n",
    "    name = name.replace('://','').replace('.','_').replace('/','_')\n",
    "    \n",
    "    #remove last underscore\n",
    "    last_underscore_spot = name.rfind('_')\n",
    "    \n",
    "    name = name + '.txt'\n",
    "    \n",
    "    return(name)\n",
    "    "
   ]
  },
  {
   "cell_type": "markdown",
   "metadata": {},
   "source": [
    "## Set Up Convention URL Dictionary \n",
    "This code is creating a dictionary called convention_pages. The dictionary has two keys, \"democrats\" and \"republicans\". Each key is assigned a list of strings, which are URLs of transcripts from each party's convention."
   ]
  },
  {
   "cell_type": "code",
   "execution_count": 193,
   "metadata": {},
   "outputs": [],
   "source": [
    "convention_pages = dict()\n",
    "\n",
    "convention_pages[\"democrats\"] = \"\"\"\n",
    "https://www.rev.com/blog/transcripts/democratic-national-convention-dnc-night-1-transcript\n",
    "https://www.rev.com/blog/transcripts/democratic-national-convention-dnc-2020-night-2-transcript\n",
    "https://www.rev.com/blog/transcripts/democratic-national-convention-dnc-night-3-transcript\n",
    "https://www.rev.com/blog/transcripts/2020-democratic-national-convention-dnc-night-4-transcript\n",
    "\"\"\".split()\n",
    "\n",
    "convention_pages[\"republicans\"] = \"\"\"\n",
    "https://www.rev.com/blog/transcripts/2020-republican-national-convention-rnc-night-1-transcript\n",
    "https://www.rev.com/blog/transcripts/2020-republican-national-convention-rnc-night-2-transcript\n",
    "https://www.rev.com/blog/transcripts/2020-republican-national-convention-rnc-night-3-transcript\n",
    "https://www.rev.com/blog/transcripts/2020-republican-national-convention-rnc-night-4-transcript\n",
    "\"\"\".split()\n"
   ]
  },
  {
   "cell_type": "markdown",
   "metadata": {},
   "source": [
    "This code below is looping through two dictionaries, convention_pages and party_text, to pull the page from a link and process the page with BeautifulSoup. It then stores the text from the page in the party_text dictionary and writes the link and text to a file with the appropriate name in a tab-separated format. After writing to the file, the code pauses for a random amount of time before continuing."
   ]
  },
  {
   "cell_type": "code",
   "execution_count": 194,
   "metadata": {},
   "outputs": [],
   "source": [
    "party_text = dict()"
   ]
  },
  {
   "cell_type": "code",
   "execution_count": 199,
   "metadata": {},
   "outputs": [
    {
     "name": "stdout",
     "output_type": "stream",
     "text": [
      "Waiting for 12.98 seconds.\n",
      "Waiting for 8.33 seconds.\n",
      "Waiting for 11.35 seconds.\n",
      "Waiting for 5.94 seconds.\n",
      "Waiting for 5.72 seconds.\n",
      "Waiting for 12.90 seconds.\n",
      "Waiting for 10.92 seconds.\n",
      "Waiting for 12.42 seconds.\n"
     ]
    }
   ],
   "source": [
    "for party in convention_pages :\n",
    "    for link in convention_pages[party] : \n",
    "        output_file_name = generate_filename_from_url(link)\n",
    "        \n",
    "        # pull the page \n",
    "        r = requests.get(link)\n",
    "        r.status_code\n",
    "        \n",
    "        # process the page\n",
    "        if r.status_code == 200 :\n",
    "            soup = BeautifulSoup(r.text, 'html.parser')\n",
    "            texts = soup.findAll(text=True)\n",
    "            visible_texts = filter(tag_visible, texts) \n",
    "            party_text[link] = \" \".join(t.strip() for t in visible_texts)\n",
    "        \n",
    "        # write out the page to a file with the appropriate name\n",
    "        with open(output_file_name, 'w', encoding = 'UTF-8') as outfile :\n",
    "            outfile.write('\\t'.join([\"link\",\"text\"]) + '\\n')\n",
    "            for link in party_text :\n",
    "                the_text = party_text[link]\n",
    "                the_text = the_text.replace(\"\\t\",\" \").replace(\"\\n\",\" \").replace(\"\\r\",\" \")\n",
    "                \n",
    "                if not link :\n",
    "                    link = \"empty link RIP\"\n",
    "                    \n",
    "                if the_text :\n",
    "                    outfile.write('\\t'.join([link,the_text]) + '\\n')\n",
    "        \n",
    "        # Pause for a bit\n",
    "        wait_time = 5 + random()*10\n",
    "        print(f\"Waiting for {wait_time:.02f} seconds.\")\n",
    "        \n",
    "        sleep(wait_time)\n",
    "        "
   ]
  },
  {
   "cell_type": "markdown",
   "metadata": {},
   "source": [
    "--- \n",
    "\n",
    "### A Helpful Function\n",
    "\n",
    "When I have to write out a long string, it's nice to wrap the text. The library `textwrap` makes it easy for me. The code below generates a long string and I can write out the output in wrapped form."
   ]
  },
  {
   "cell_type": "code",
   "execution_count": 200,
   "metadata": {},
   "outputs": [],
   "source": [
    "from random import choices, seed\n",
    "from string import ascii_letters"
   ]
  },
  {
   "cell_type": "code",
   "execution_count": 201,
   "metadata": {},
   "outputs": [],
   "source": [
    "# Generate a long string with some spaces. \n",
    "\n",
    "string_length = 50000\n",
    "chars_to_sample = ascii_letters + \" \"*8 # Get some spaces in there\n",
    "\n",
    "seed(20200916)\n",
    "\n",
    "text = \"\".join(choices(chars_to_sample,k=string_length))"
   ]
  },
  {
   "cell_type": "markdown",
   "metadata": {},
   "source": [
    "First we'll just write out the text. You'll notice it's just one long line. "
   ]
  },
  {
   "cell_type": "code",
   "execution_count": 202,
   "metadata": {},
   "outputs": [],
   "source": [
    "with open(\"text.txt\",'w') as outfile :\n",
    "    outfile.write(text)"
   ]
  },
  {
   "cell_type": "markdown",
   "metadata": {},
   "source": [
    "The library `textwrap` will let us make a nice, wrapped output."
   ]
  },
  {
   "cell_type": "code",
   "execution_count": null,
   "metadata": {},
   "outputs": [],
   "source": [
    "wrapped_text = textwrap.wrap(text)\n",
    "\n",
    "with open(\"text_wrapped.txt\",'w') as outfile :\n",
    "    for piece in wrapped_text :\n",
    "        outfile.write(piece + \"\\n\")"
   ]
  }
 ],
 "metadata": {
  "kernelspec": {
   "display_name": "Python 3 (ipykernel)",
   "language": "python",
   "name": "python3"
  },
  "language_info": {
   "codemirror_mode": {
    "name": "ipython",
    "version": 3
   },
   "file_extension": ".py",
   "mimetype": "text/x-python",
   "name": "python",
   "nbconvert_exporter": "python",
   "pygments_lexer": "ipython3",
   "version": "3.9.12"
  }
 },
 "nbformat": 4,
 "nbformat_minor": 2
}
